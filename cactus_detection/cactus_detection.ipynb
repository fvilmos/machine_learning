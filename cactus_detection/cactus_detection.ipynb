{
 "cells": [
  {
   "cell_type": "code",
   "execution_count": 1,
   "metadata": {},
   "outputs": [
    {
     "name": "stdout",
     "output_type": "stream",
     "text": [
      "Collecting scipy\n",
      "  Downloading scipy-1.5.4-cp36-cp36m-manylinux1_x86_64.whl (25.9 MB)\n",
      "\u001b[K     |████████████████████████████████| 25.9 MB 12.2 MB/s eta 0:00:01\n",
      "\u001b[?25hRequirement already satisfied: numpy>=1.14.5 in /usr/local/lib/python3.6/dist-packages (from scipy) (1.19.4)\n",
      "Installing collected packages: scipy\n",
      "Successfully installed scipy-1.5.4\n",
      "\u001b[33mWARNING: You are using pip version 20.3.3; however, version 21.0.1 is available.\n",
      "You should consider upgrading via the '/usr/bin/python3 -m pip install --upgrade pip' command.\u001b[0m\n",
      "Collecting glob2\n",
      "  Downloading glob2-0.7.tar.gz (10 kB)\n",
      "Building wheels for collected packages: glob2\n",
      "  Building wheel for glob2 (setup.py) ... \u001b[?25ldone\n",
      "\u001b[?25h  Created wheel for glob2: filename=glob2-0.7-py2.py3-none-any.whl size=9307 sha256=5d0cab7a2b29dba8267319698da501735fcea374c293e68c68a22476a7b60715\n",
      "  Stored in directory: /root/.cache/pip/wheels/96/2f/ad/5bba2807c8e762a019e4abd6f70dafbab1889acda23192aeff\n",
      "Successfully built glob2\n",
      "Installing collected packages: glob2\n",
      "Successfully installed glob2-0.7\n",
      "\u001b[33mWARNING: You are using pip version 20.3.3; however, version 21.0.1 is available.\n",
      "You should consider upgrading via the '/usr/bin/python3 -m pip install --upgrade pip' command.\u001b[0m\n",
      "Num GPUs Available:  1\n"
     ]
    }
   ],
   "source": [
    "!pip3 install scipy\n",
    "!pip3 install glob2\n",
    "\n",
    "import numpy as np\n",
    "import tensorflow as tf\n",
    "from tensorflow import keras\n",
    "import matplotlib.pyplot as plt\n",
    "import os\n",
    "import PIL.Image as Image\n",
    "import glob\n",
    "\n",
    "print(\"Num GPUs Available: \", len(tf.config.experimental.list_physical_devices('GPU')))\n",
    "config = tf.compat.v1.ConfigProto(allow_soft_placement=True)\n",
    "\n",
    "config.gpu_options.per_process_gpu_memory_fraction = 0.3\n",
    "tf.compat.v1.keras.backend.set_session(tf.compat.v1.Session(config=config))"
   ]
  },
  {
   "cell_type": "code",
   "execution_count": 2,
   "metadata": {},
   "outputs": [
    {
     "name": "stdout",
     "output_type": "stream",
     "text": [
      "Directory exist!\n",
      "Directories are not empty!\n"
     ]
    }
   ],
   "source": [
    "# pre-process, structure: labels array [ID, val]\n",
    "# check if dir structure exists\n",
    "\n",
    "tpath = './data/train'\n",
    "\n",
    "if os.path.exists(tpath + '/0') == True or os.path.exists(tpath + '/1') == True:\n",
    "    print (\"Directory exist!\")\n",
    "else:\n",
    "    os.mkdir(tpath+\"/0\")\n",
    "    os.mkdir(tpath+\"/1\")\n",
    "    print (\"Train structure created\")\n",
    "    \n",
    "#populate directories\n",
    "labels = np.loadtxt('./train.csv',delimiter=\",\",dtype=np.str,skiprows=1)\n",
    "\n",
    "# skipp if not empty\n",
    "if not (os.listdir(tpath + '/0') or os.listdir(tpath + '/1')):\n",
    "    print (\"Copy started...\")\n",
    "    for fn,val in labels:\n",
    "\n",
    "        # select path to copy files\n",
    "        if val == str(1):\n",
    "            os.popen('cp '+ tpath + '/'+ fn + ' ' +tpath+'/1') \n",
    "        else:\n",
    "            os.popen('cp '+ tpath + '/'+ fn + ' ' +tpath+'/0')\n",
    "    print (\"Files are copied!\")\n",
    "else:\n",
    "    print (\"Directories are not empty!\")\n",
    "\n"
   ]
  },
  {
   "cell_type": "code",
   "execution_count": 3,
   "metadata": {},
   "outputs": [
    {
     "name": "stdout",
     "output_type": "stream",
     "text": [
      "Found 14001 images belonging to 2 classes.\n",
      "Found 3499 images belonging to 2 classes.\n",
      "Found 4000 images belonging to 1 classes.\n"
     ]
    }
   ],
   "source": [
    "# input image size 32x32\n",
    "size = 32\n",
    "train_datagen = keras.preprocessing.image.ImageDataGenerator(rescale=1./255,\n",
    "                                                             rotation_range=40,\n",
    "                                                             width_shift_range=0.2,\n",
    "                                                             height_shift_range=0.2,\n",
    "                                                             shear_range=0.2,\n",
    "                                                             zoom_range=0.2,\n",
    "                                                             horizontal_flip=True,\n",
    "                                                             validation_split=0.2\n",
    "                                                            )\n",
    "\n",
    "\n",
    "train_generator = train_datagen.flow_from_directory('./data/train',target_size=(size,size),\n",
    "                                                    batch_size=64,\n",
    "                                                    #classes=['train'],\n",
    "                                                    class_mode='binary',\n",
    "                                                    subset='training',\n",
    "                                                    color_mode='rgb',\n",
    "                                                    shuffle=True)\n",
    "\n",
    "val_generator = train_datagen.flow_from_directory('./data/train',\n",
    "                                                    target_size=(size,size),\n",
    "                                                    #classes=['train'],\n",
    "                                                    batch_size=64, \n",
    "                                                    class_mode='binary',\n",
    "                                                    subset='validation',\n",
    "                                                    color_mode='rgb',\n",
    "                                                    shuffle=True)\n",
    "\n",
    "\n",
    "test_datagen = keras.preprocessing.image.ImageDataGenerator(rescale=1./255)\n",
    "\n",
    "test_generator = test_datagen.flow_from_directory('./data/', \n",
    "                                                    target_size=(size,size), \n",
    "                                                    batch_size=32, \n",
    "                                                    classes=['test'],\n",
    "                                                    class_mode='binary',\n",
    "                                                    shuffle=False)\n"
   ]
  },
  {
   "cell_type": "code",
   "execution_count": 4,
   "metadata": {},
   "outputs": [],
   "source": [
    "# create a sequencial model\n",
    "\n",
    "model = keras.models.Sequential()\n",
    "\n",
    "model.add(keras.layers.Conv2D(32, (3, 3), activation='relu', input_shape=(size,size,3)))\n",
    "model.add(keras.layers.MaxPooling2D((2, 2)))\n",
    "\n",
    "model.add(keras.layers.Conv2D(64, (3, 3), activation='relu'))\n",
    "model.add(keras.layers.MaxPooling2D(2, 2))\n",
    "\n",
    "\n",
    "model.add(keras.layers.Conv2D(128, (3, 3), activation='relu'))\n",
    "model.add(keras.layers.MaxPooling2D(2, 2))\n",
    "\n",
    "\n",
    "\n",
    "model.add(keras.layers.Flatten())\n",
    "\n",
    "# reduce overfitting\n",
    "model.add(keras.layers.Dropout(0.3))\n",
    "\n",
    "model.add(keras.layers.Dense(512, activation='relu'))\n",
    "\n",
    "\n",
    "# out layer [0,1] => sigmoid activation\n",
    "model.add(keras.layers.Dense(1, activation='sigmoid'))\n",
    "\n",
    "\n",
    "model.compile(optimizer=keras.optimizers.RMSprop(learning_rate=0.0001), loss='binary_crossentropy', metrics=['acc'])\n"
   ]
  },
  {
   "cell_type": "code",
   "execution_count": 5,
   "metadata": {},
   "outputs": [
    {
     "name": "stdout",
     "output_type": "stream",
     "text": [
      "Epoch 1/20\n",
      "219/219 - 22s - loss: 0.3855 - acc: 0.8286 - val_loss: 0.2583 - val_acc: 0.9125\n",
      "Epoch 2/20\n",
      "219/219 - 13s - loss: 0.2368 - acc: 0.9156 - val_loss: 0.2418 - val_acc: 0.9185\n",
      "Epoch 3/20\n",
      "219/219 - 12s - loss: 0.2252 - acc: 0.9152 - val_loss: 0.2126 - val_acc: 0.9266\n",
      "Epoch 4/20\n",
      "219/219 - 13s - loss: 0.2104 - acc: 0.9203 - val_loss: 0.2067 - val_acc: 0.9237\n",
      "Epoch 5/20\n",
      "219/219 - 12s - loss: 0.2053 - acc: 0.9231 - val_loss: 0.1965 - val_acc: 0.9291\n",
      "Epoch 6/20\n",
      "219/219 - 12s - loss: 0.1947 - acc: 0.9262 - val_loss: 0.1866 - val_acc: 0.9374\n",
      "Epoch 7/20\n",
      "219/219 - 12s - loss: 0.1894 - acc: 0.9283 - val_loss: 0.1827 - val_acc: 0.9323\n",
      "Epoch 8/20\n",
      "219/219 - 12s - loss: 0.1825 - acc: 0.9293 - val_loss: 0.2151 - val_acc: 0.9220\n",
      "Epoch 9/20\n",
      "219/219 - 13s - loss: 0.1752 - acc: 0.9345 - val_loss: 0.1974 - val_acc: 0.9291\n",
      "Epoch 10/20\n",
      "219/219 - 13s - loss: 0.1708 - acc: 0.9347 - val_loss: 0.1606 - val_acc: 0.9423\n",
      "Epoch 11/20\n",
      "219/219 - 12s - loss: 0.1624 - acc: 0.9393 - val_loss: 0.1727 - val_acc: 0.9340\n",
      "Epoch 12/20\n",
      "219/219 - 12s - loss: 0.1614 - acc: 0.9405 - val_loss: 0.1391 - val_acc: 0.9503\n",
      "Epoch 13/20\n",
      "219/219 - 13s - loss: 0.1509 - acc: 0.9447 - val_loss: 0.2548 - val_acc: 0.9083\n",
      "Epoch 14/20\n",
      "219/219 - 13s - loss: 0.1493 - acc: 0.9444 - val_loss: 0.1361 - val_acc: 0.9488\n",
      "Epoch 15/20\n",
      "219/219 - 13s - loss: 0.1370 - acc: 0.9479 - val_loss: 0.1401 - val_acc: 0.9488\n",
      "Epoch 16/20\n",
      "219/219 - 13s - loss: 0.1316 - acc: 0.9494 - val_loss: 0.1483 - val_acc: 0.9431\n",
      "Epoch 17/20\n",
      "219/219 - 13s - loss: 0.1249 - acc: 0.9516 - val_loss: 0.1646 - val_acc: 0.9406\n",
      "Epoch 18/20\n",
      "219/219 - 13s - loss: 0.1253 - acc: 0.9520 - val_loss: 0.1223 - val_acc: 0.9537\n",
      "Epoch 19/20\n",
      "219/219 - 13s - loss: 0.1186 - acc: 0.9559 - val_loss: 0.1456 - val_acc: 0.9423\n",
      "Epoch 20/20\n",
      "219/219 - 13s - loss: 0.1132 - acc: 0.9567 - val_loss: 0.1035 - val_acc: 0.9600\n"
     ]
    }
   ],
   "source": [
    "steps=50\n",
    "valsteps=8\n",
    "epoches=200\n",
    "\n",
    "hist = model.fit(x=train_generator, validation_data=val_generator, epochs=20,verbose=2)\n"
   ]
  },
  {
   "cell_type": "code",
   "execution_count": 6,
   "metadata": {},
   "outputs": [
    {
     "data": {
      "image/png": "[encoded data removed]",
      "text/plain": [
       "<Figure size 432x288 with 1 Axes>"
      ]
     },
     "metadata": {
      "needs_background": "light"
     },
     "output_type": "display_data"
    },
    {
     "data": {
      "image/png": "[encoded data removed]",
      "text/plain": [
       "<Figure size 432x288 with 1 Axes>"
      ]
     },
     "metadata": {
      "needs_background": "light"
     },
     "output_type": "display_data"
    }
   ],
   "source": [
    "win = 5\n",
    "def mavr(data, win):\n",
    "    return np.convolve(data, np.ones(win), 'valid') / win\n",
    "\n",
    "plt.plot(mavr(hist.history['acc'],win))\n",
    "plt.plot(mavr(hist.history['val_acc'],win))\n",
    "plt.title('model accuracy')\n",
    "plt.ylabel('accuracy')\n",
    "plt.xlabel('epoch')\n",
    "plt.legend(['train', 'test'], loc='upper left')\n",
    "plt.show()\n",
    "# summarize history for loss\n",
    "plt.plot(mavr(hist.history['loss'],win))\n",
    "plt.plot(mavr(hist.history['val_loss'],win))\n",
    "plt.title('model loss')\n",
    "plt.ylabel('loss')\n",
    "plt.xlabel('epoch')\n",
    "plt.legend(['train', 'test'], loc='upper left')\n",
    "plt.show()"
   ]
  },
  {
   "cell_type": "code",
   "execution_count": 7,
   "metadata": {},
   "outputs": [],
   "source": [
    "model.save('k_cactus.h5')"
   ]
  },
  {
   "cell_type": "code",
   "execution_count": 42,
   "metadata": {},
   "outputs": [],
   "source": [
    "# make inference and generate submission file\n",
    "\n",
    "Y_pred = model.predict(x=test_generator, steps=len(test_generator))\n",
    "Y_pred = np.round(Y_pred,0)\n",
    "\n",
    "tdir = \"./data/test/*.jpg\"\n",
    "imgn = np.array([[os.path.basename(k) for k in glob.glob(tdir, recursive=True)]])\n",
    "\n",
    "# write data to file\n",
    "wdata= np.hstack((imgn.T,Y_pred))\n",
    "np.savetxt('submission.csv',wdata,fmt=['%s', '%s'],delimiter=',', header='id,has_cactus',comments='')"
   ]
  },
  {
   "cell_type": "code",
   "execution_count": null,
   "metadata": {},
   "outputs": [],
   "source": []
  }
 ],
 "metadata": {
  "kernelspec": {
   "display_name": "Python 3",
   "language": "python",
   "name": "python3"
  },
  "language_info": {
   "codemirror_mode": {
    "name": "ipython",
    "version": 3
   },
   "file_extension": ".py",
   "mimetype": "text/x-python",
   "name": "python",
   "nbconvert_exporter": "python",
   "pygments_lexer": "ipython3",
   "version": "3.6.9"
  }
 },
 "nbformat": 4,
 "nbformat_minor": 4
}
